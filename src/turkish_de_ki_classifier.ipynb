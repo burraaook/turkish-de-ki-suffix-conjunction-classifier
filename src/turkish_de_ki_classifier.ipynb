{
  "cells": [
    {
      "cell_type": "markdown",
      "metadata": {
        "id": "mu4csI6GnsZQ"
      },
      "source": [
        "**Go to working Directory**"
      ]
    },
    {
      "cell_type": "code",
      "execution_count": 1,
      "metadata": {
        "colab": {
          "base_uri": "https://localhost:8080/"
        },
        "id": "tkeuHXBDAR1s",
        "outputId": "fdab0660-29af-48b5-ac91-07f19d122dd8"
      },
      "outputs": [
        {
          "name": "stdout",
          "output_type": "stream",
          "text": [
            "/content/drive/MyDrive/Colab Notebooks/de_ki_classifier\n"
          ]
        }
      ],
      "source": [
        "cd \"/content/drive/MyDrive/Colab Notebooks/de_ki_classifier\""
      ]
    },
    {
      "cell_type": "markdown",
      "metadata": {
        "id": "6ijqbtgg_Tik"
      },
      "source": [
        "**Preprocessing Step**"
      ]
    },
    {
      "cell_type": "code",
      "execution_count": 2,
      "metadata": {
        "colab": {
          "base_uri": "https://localhost:8080/"
        },
        "id": "D911nbmR7wLz",
        "outputId": "98f44f48-b97d-4016-dd62-25ee3999356e"
      },
      "outputs": [
        {
          "name": "stderr",
          "output_type": "stream",
          "text": [
            "[nltk_data] Downloading package punkt to /root/nltk_data...\n",
            "[nltk_data]   Unzipping tokenizers/punkt.zip.\n"
          ]
        },
        {
          "data": {
            "text/plain": [
              "True"
            ]
          },
          "execution_count": 2,
          "metadata": {},
          "output_type": "execute_result"
        }
      ],
      "source": [
        "import nltk\n",
        "nltk.download('punkt')"
      ]
    },
    {
      "cell_type": "code",
      "execution_count": 3,
      "metadata": {
        "id": "C_AYT2dnFBIk"
      },
      "outputs": [],
      "source": [
        "NUM_OF_SENTENCES = 200000\n",
        "MAX_WORD_IN_SENTENCE = 15\n",
        "\n",
        "def check_sentence(sentence):\n",
        "    # if sentence contains only letters and punctuations, return True\n",
        "    # else return False\n",
        "    for ch in sentence:\n",
        "        if ch.isalpha() == False and ch != \".\" and ch != \",\" and ch != \"?\" and ch != \"!\" and ch != \" \":\n",
        "            return False\n",
        "    return True\n",
        "\n",
        "def check_de_ki_suffix_v1(sentence):\n",
        "    # if \"de\" is in the sentence add it to the file\n",
        "    if \" de \" in sentence:\n",
        "        if \" ki \" in sentence:\n",
        "            return False\n",
        "        return True\n",
        "\n",
        "    # if \"ki\" is in the sentence add it to the file\n",
        "    if \" ki \" in sentence:\n",
        "        return True\n",
        "\n",
        "    return False\n",
        "def check_de_ki_suffix_v2(sentence):\n",
        "    # check de and ki as a suffix\n",
        "    # example: \"alide\", \"oradaki\", \"bizde\"\n",
        "\n",
        "    # syllabicate\n",
        "    for word in sentence.split():\n",
        "        if word.endswith(\"de\") or word.endswith(\"ki\"):\n",
        "            if len(word) > 2:\n",
        "                return True\n",
        "\n",
        "    return False\n",
        "\n",
        "def write_separated_connected(sentence, f):\n",
        "    # if de and ki is bağlaç, connect to the previous word\n",
        "    # example \"ali de bizde kaldı\" -> \"ali de biz de kaldı\"\n",
        "\n",
        "    # find the character of \" de \" or \" ki \" from the sentence\n",
        "    ch = \"\"\n",
        "    if \" de \" in sentence:\n",
        "        ch = \" de \"\n",
        "    elif \" ki \" in sentence:\n",
        "        ch = \" ki \"\n",
        "    else:\n",
        "        return\n",
        "\n",
        "    # replace \" de \" or \" ki \" with \"de \" or \"ki \"\n",
        "    sentence_w = \"\"\n",
        "    if ch == \" de \":\n",
        "        sentence_w = sentence.replace(ch, \"de \")\n",
        "    elif ch == \" ki \":\n",
        "        sentence_w = sentence.replace(ch, \"ki \")\n",
        "\n",
        "    # write the sentence to the file\n",
        "    f.write(sentence_w + \"\\n\")\n",
        "\n",
        "# extract all sentences from the source file, write them to a new file\n",
        "def extract_sentences(source_file, append = False, jump_size = 0):\n",
        "    jump_size = 0\n",
        "    line_limit = 15\n",
        "    connected_limit = 9\n",
        "    separated_filename = \"separated_class.txt\"\n",
        "    not_separated_filename = \"not_separated_class.txt\"\n",
        "    line_count = 0\n",
        "    connected_count = 0\n",
        "    count = 0\n",
        "\n",
        "    mode = \"w\"\n",
        "    if append:\n",
        "        mode = \"a\"\n",
        "\n",
        "    with open(source_file, \"r\") as f:\n",
        "        with open(separated_filename, mode) as f2:\n",
        "            with open(not_separated_filename, mode) as f3:\n",
        "                for line in f:\n",
        "\n",
        "                    if line.strip() != \"\":\n",
        "                        # if (count > NUM_OF_SENTENCES):\n",
        "                        #     break\n",
        "                        # if line starts with < pass it,\n",
        "                        # if line starts with align pass it\n",
        "                        if line.startswith(\"<\") or line.startswith(\"align\"):\n",
        "                            continue\n",
        "                        sentences = nltk.sent_tokenize(line)\n",
        "\n",
        "                        if (sentences == \"\"):\n",
        "                            continue\n",
        "\n",
        "                        # convert sentences array to sentences set\n",
        "                        set_sentences = set(sentences)\n",
        "\n",
        "                        for sentence in list(set_sentences):\n",
        "\n",
        "                            # if length of sentence is more than 100, or less than 3, pass it\n",
        "                            if len(sentence) > 70 or len(sentence) < 10:\n",
        "                                continue\n",
        "\n",
        "                            # if sentence has less than 3 words, pass it\n",
        "                            if len(sentence.split()) < 3:\n",
        "                                continue\n",
        "\n",
        "                            # if sentence does not end with \".\", \"!\", \"?\", pass it\n",
        "                            if sentence.endswith(\".\") == False and sentence.endswith(\"!\") == False and sentence.endswith(\"?\") == False:\n",
        "                                continue\n",
        "\n",
        "                            # max word number is 7\n",
        "                            if len(sentence.split()) > MAX_WORD_IN_SENTENCE:\n",
        "                                continue\n",
        "\n",
        "                            # convert to lowercase\n",
        "                            sentence_w = sentence.lower()\n",
        "\n",
        "                            # if sentence does not only contain letters and punctuations, pass it\n",
        "                            if check_sentence(sentence_w) == False:\n",
        "                                continue\n",
        "\n",
        "                            # check if sentence includes \"de\" or \"ki\" suffix\n",
        "                            if (check_de_ki_suffix_v1(sentence_w)):\n",
        "                                count += 1\n",
        "                                # f2.write(sentence_w + \"\\n\")\n",
        "                                write_separated_connected(sentence_w, f2)\n",
        "                                line_count += 1\n",
        "\n",
        "                            elif (check_de_ki_suffix_v2(sentence_w) and connected_count < connected_limit):\n",
        "                                count += 1\n",
        "\n",
        "                                # write as not separated\n",
        "                                f3.write(sentence_w + \"\\n\")\n",
        "                                connected_count += 1\n",
        "                                line_count += 1\n",
        "\n",
        "                        if line_count > line_limit:\n",
        "                            # jump 200 lines\n",
        "                            # for i in range(jump_size):\n",
        "                            #     f.readline()\n",
        "                            line_count = 0\n",
        "                            connected_count = 0\n",
        "\n",
        "                        sentences.clear()\n"
      ]
    },
    {
      "cell_type": "markdown",
      "metadata": {
        "id": "6pKuguainyVq"
      },
      "source": [
        "Add those files to the working directory."
      ]
    },
    {
      "cell_type": "code",
      "execution_count": 4,
      "metadata": {
        "id": "gR5Yvwb-_f9M"
      },
      "outputs": [],
      "source": [
        "extract_sentences(\"wiki.tr.txt\", False)\n",
        "extract_sentences(\"tr_corpus.txt\", True)\n",
        "extract_sentences(\"turkish_dump.txt\", True)"
      ]
    },
    {
      "cell_type": "markdown",
      "metadata": {
        "id": "hhmVJNO5_uGg"
      },
      "source": [
        "**Training Step**"
      ]
    },
    {
      "cell_type": "code",
      "execution_count": 2,
      "metadata": {
        "id": "myetXtbiC-Cq"
      },
      "outputs": [],
      "source": [
        "from keras.preprocessing.text import Tokenizer\n",
        "from keras.preprocessing.sequence import pad_sequences\n",
        "# from keras.utils.data_utils import pad_sequences\n",
        "from keras.models import Sequential\n",
        "from keras.layers import Dense, Embedding, LSTM, Dropout, BatchNormalization, SimpleRNN, Flatten, GlobalAveragePooling1D\n",
        "from keras.utils import to_categorical\n",
        "from sklearn.model_selection import train_test_split\n",
        "import numpy as np\n",
        "from keras.models import load_model\n",
        "import pickle\n",
        "import matplotlib.pyplot as plt\n",
        "from keras import regularizers, optimizers\n",
        "from keras.callbacks import EarlyStopping, ModelCheckpoint\n",
        "\n",
        "\n",
        "max_length = 16"
      ]
    },
    {
      "cell_type": "code",
      "execution_count": 3,
      "metadata": {
        "id": "fY305Jwp_xbA"
      },
      "outputs": [],
      "source": [
        "def load_data():\n",
        "  # load the data\n",
        "  with open('separated_class.txt', 'r') as f:\n",
        "      separated = f.read().split('\\n')\n",
        "  with open('not_separated_class.txt', 'r') as f:\n",
        "      not_separated = f.read().split('\\n')\n",
        "\n",
        "  return separated, not_separated\n",
        "\n",
        "def prepare_data():\n",
        "  separated, not_separated = load_data()\n",
        "\n",
        "  # prepare the sentences\n",
        "  sentences = separated + not_separated\n",
        "\n",
        "  # tokenize the sentences\n",
        "  tokenizer = Tokenizer()\n",
        "  tokenizer.fit_on_texts(sentences)\n",
        "  sequences = tokenizer.texts_to_sequences(sentences)\n",
        "\n",
        "  # pad the sequences\n",
        "  data = pad_sequences(sequences, maxlen=max_length)\n",
        "\n",
        "  # convert labels to numpy arrays\n",
        "  labels = np.array([1]*len(separated) + [0]*len(not_separated))\n",
        "\n",
        "  return data, labels, tokenizer\n",
        "\n",
        "def train_test_split_data():\n",
        "  data, labels, tokenizer = prepare_data()\n",
        "\n",
        "  # split data to test and train\n",
        "  X_train, X_test, y_train, y_test = train_test_split(data, labels, test_size=0.2, shuffle=True, random_state=42)\n",
        "\n",
        "  return X_train, X_test, y_train, y_test, tokenizer\n",
        "\n",
        "\n",
        "def train_classifier():\n",
        "\n",
        "  # get model parameters\n",
        "  X_train, X_test, y_train, y_test, tokenizer = train_test_split_data()\n",
        "\n",
        "  vocab_size = len(tokenizer.word_index) + 1\n",
        "\n",
        "  # define the model\n",
        "  model = Sequential()\n",
        "  model.add(Embedding(vocab_size, 32, input_length=max_length))\n",
        "  # model.add(SimpleRNN(16, return_sequences=True, kernel_regularizer=regularizers.l2(0.01), dropout=0.2, recurrent_dropout=0.2))\n",
        "  model.add(Flatten())\n",
        "  model.add(Dense(16, activation='relu', kernel_regularizer=regularizers.l2(0.01)))\n",
        "  # model.add(Dropout(0.5))\n",
        "  # model.add(BatchNormalization())\n",
        "  # model.add(Dense(16, activation='relu', kernel_regularizer=regularizers.l2(0.01)))\n",
        "  model.add(Dense(1, activation='sigmoid', kernel_regularizer=regularizers.l2(0.01)))\n",
        "\n",
        "  model.summary()\n",
        "\n",
        "  # define step size for adam optimizer\n",
        "  c_adam = optimizers.Adam(learning_rate=0.001)\n",
        "\n",
        "  # define sgd optimizer\n",
        "  # c_sgd = optimizers.SGD(lr=0.01, decay=1e-6, momentum=0.9, nesterov=True)\n",
        "\n",
        "  # compile the model\n",
        "  model.compile(loss='binary_crossentropy',\n",
        "              optimizer= c_adam,\n",
        "              metrics=['accuracy'])\n",
        "\n",
        "  # define early stopping\n",
        "  early_stopping = EarlyStopping(monitor='val_loss', patience=10)\n",
        "\n",
        "  # define model checkpoint\n",
        "  model_checkpoint = ModelCheckpoint('best_model.keras', monitor='val_loss', save_best_only=True)\n",
        "\n",
        "  # train the model with early stopping and model checkpoint\n",
        "  history = model.fit(X_train, y_train,\n",
        "              batch_size=64,\n",
        "              epochs=100,\n",
        "              validation_data=(X_test, y_test),\n",
        "              callbacks=[early_stopping, model_checkpoint])\n",
        "\n",
        "  # save the model to disk\n",
        "  model.save('de_ki_model.keras')\n",
        "\n",
        "  # save the tokenizer to disk\n",
        "  with open('tokenizer.pickle', 'wb') as handle:\n",
        "      pickle.dump(tokenizer, handle, protocol=pickle.HIGHEST_PROTOCOL)\n",
        "\n",
        "  visualize_training(history)"
      ]
    },
    {
      "cell_type": "markdown",
      "metadata": {
        "id": "snNx9FNdxRAX"
      },
      "source": [
        "**Visualization of Training**"
      ]
    },
    {
      "cell_type": "code",
      "execution_count": 4,
      "metadata": {
        "id": "7FoezRe5xQwP"
      },
      "outputs": [],
      "source": [
        "def visualize_training(history):\n",
        "  # Summarize history for accuracy\n",
        "  plt.figure(figsize=(12, 4))\n",
        "  plt.subplot(1, 2, 1)\n",
        "  plt.plot(history.history['accuracy'])\n",
        "  plt.plot(history.history['val_accuracy'])\n",
        "  plt.title('Model Accuracy')\n",
        "  plt.ylabel('Accuracy')\n",
        "  plt.xlabel('Epoch')\n",
        "  plt.legend(['Train', 'Test'], loc='upper left')\n",
        "\n",
        "  # Summarize history for loss\n",
        "  plt.subplot(1, 2, 2)\n",
        "  plt.plot(history.history['loss'])\n",
        "  plt.plot(history.history['val_loss'])\n",
        "  plt.title('Model Loss')\n",
        "  plt.ylabel('Loss')\n",
        "  plt.xlabel('Epoch')\n",
        "  plt.legend(['Train', 'Test'], loc='upper left')\n",
        "\n",
        "  plt.show()"
      ]
    },
    {
      "cell_type": "code",
      "execution_count": 5,
      "metadata": {
        "colab": {
          "base_uri": "https://localhost:8080/",
          "height": 1000
        },
        "id": "cfNrQK53_zzw",
        "outputId": "ecc5933d-7359-47fb-eb84-350b3e538b2a"
      },
      "outputs": [
        {
          "name": "stdout",
          "output_type": "stream",
          "text": [
            "Model: \"sequential\"\n",
            "_________________________________________________________________\n",
            " Layer (type)                Output Shape              Param #   \n",
            "=================================================================\n",
            " embedding (Embedding)       (None, 16, 32)            5197568   \n",
            "                                                                 \n",
            " flatten (Flatten)           (None, 512)               0         \n",
            "                                                                 \n",
            " dense (Dense)               (None, 16)                8208      \n",
            "                                                                 \n",
            " dense_1 (Dense)             (None, 1)                 17        \n",
            "                                                                 \n",
            "=================================================================\n",
            "Total params: 5205793 (19.86 MB)\n",
            "Trainable params: 5205793 (19.86 MB)\n",
            "Non-trainable params: 0 (0.00 Byte)\n",
            "_________________________________________________________________\n",
            "Epoch 1/100\n",
            "2754/2754 [==============================] - 38s 13ms/step - loss: 0.4423 - accuracy: 0.8501 - val_loss: 0.3540 - val_accuracy: 0.9008\n",
            "Epoch 2/100\n",
            "2754/2754 [==============================] - 16s 6ms/step - loss: 0.2767 - accuracy: 0.9415 - val_loss: 0.3156 - val_accuracy: 0.9148\n",
            "Epoch 3/100\n",
            "2754/2754 [==============================] - 16s 6ms/step - loss: 0.2189 - accuracy: 0.9635 - val_loss: 0.3048 - val_accuracy: 0.9168\n",
            "Epoch 4/100\n",
            "2754/2754 [==============================] - 19s 7ms/step - loss: 0.1853 - accuracy: 0.9734 - val_loss: 0.2937 - val_accuracy: 0.9181\n",
            "Epoch 5/100\n",
            "2754/2754 [==============================] - 16s 6ms/step - loss: 0.1623 - accuracy: 0.9788 - val_loss: 0.2961 - val_accuracy: 0.9138\n",
            "Epoch 6/100\n",
            "2754/2754 [==============================] - 15s 5ms/step - loss: 0.1455 - accuracy: 0.9825 - val_loss: 0.2867 - val_accuracy: 0.9153\n",
            "Epoch 7/100\n",
            "2754/2754 [==============================] - 16s 6ms/step - loss: 0.1323 - accuracy: 0.9855 - val_loss: 0.2831 - val_accuracy: 0.9142\n",
            "Epoch 8/100\n",
            "2754/2754 [==============================] - 16s 6ms/step - loss: 0.1218 - accuracy: 0.9874 - val_loss: 0.2846 - val_accuracy: 0.9158\n",
            "Epoch 9/100\n",
            "2754/2754 [==============================] - 16s 6ms/step - loss: 0.1131 - accuracy: 0.9887 - val_loss: 0.2813 - val_accuracy: 0.9148\n",
            "Epoch 10/100\n",
            "2754/2754 [==============================] - 16s 6ms/step - loss: 0.1056 - accuracy: 0.9900 - val_loss: 0.2749 - val_accuracy: 0.9148\n",
            "Epoch 11/100\n",
            "2754/2754 [==============================] - 17s 6ms/step - loss: 0.0994 - accuracy: 0.9912 - val_loss: 0.2743 - val_accuracy: 0.9153\n",
            "Epoch 12/100\n",
            "2754/2754 [==============================] - 16s 6ms/step - loss: 0.0938 - accuracy: 0.9920 - val_loss: 0.2776 - val_accuracy: 0.9142\n",
            "Epoch 13/100\n",
            "2754/2754 [==============================] - 16s 6ms/step - loss: 0.0890 - accuracy: 0.9927 - val_loss: 0.2767 - val_accuracy: 0.9125\n",
            "Epoch 14/100\n",
            "2754/2754 [==============================] - 16s 6ms/step - loss: 0.0846 - accuracy: 0.9933 - val_loss: 0.2742 - val_accuracy: 0.9149\n",
            "Epoch 15/100\n",
            "2754/2754 [==============================] - 16s 6ms/step - loss: 0.0808 - accuracy: 0.9939 - val_loss: 0.2763 - val_accuracy: 0.9139\n",
            "Epoch 16/100\n",
            "2754/2754 [==============================] - 17s 6ms/step - loss: 0.0773 - accuracy: 0.9943 - val_loss: 0.2796 - val_accuracy: 0.9097\n",
            "Epoch 17/100\n",
            "2754/2754 [==============================] - 14s 5ms/step - loss: 0.0743 - accuracy: 0.9947 - val_loss: 0.2817 - val_accuracy: 0.9110\n",
            "Epoch 18/100\n",
            "2754/2754 [==============================] - 17s 6ms/step - loss: 0.0715 - accuracy: 0.9951 - val_loss: 0.2802 - val_accuracy: 0.9109\n",
            "Epoch 19/100\n",
            "2754/2754 [==============================] - 16s 6ms/step - loss: 0.0689 - accuracy: 0.9954 - val_loss: 0.2723 - val_accuracy: 0.9127\n",
            "Epoch 20/100\n",
            "2754/2754 [==============================] - 15s 5ms/step - loss: 0.0665 - accuracy: 0.9958 - val_loss: 0.2788 - val_accuracy: 0.9093\n",
            "Epoch 21/100\n",
            "2754/2754 [==============================] - 15s 6ms/step - loss: 0.0644 - accuracy: 0.9959 - val_loss: 0.2781 - val_accuracy: 0.9105\n",
            "Epoch 22/100\n",
            "2754/2754 [==============================] - 16s 6ms/step - loss: 0.0623 - accuracy: 0.9963 - val_loss: 0.2775 - val_accuracy: 0.9120\n",
            "Epoch 23/100\n",
            "2754/2754 [==============================] - 15s 6ms/step - loss: 0.0606 - accuracy: 0.9963 - val_loss: 0.2759 - val_accuracy: 0.9113\n",
            "Epoch 24/100\n",
            "2754/2754 [==============================] - 15s 5ms/step - loss: 0.0588 - accuracy: 0.9966 - val_loss: 0.2804 - val_accuracy: 0.9103\n",
            "Epoch 25/100\n",
            "2754/2754 [==============================] - 17s 6ms/step - loss: 0.0571 - accuracy: 0.9968 - val_loss: 0.2768 - val_accuracy: 0.9113\n",
            "Epoch 26/100\n",
            "2754/2754 [==============================] - 16s 6ms/step - loss: 0.0556 - accuracy: 0.9969 - val_loss: 0.2765 - val_accuracy: 0.9109\n",
            "Epoch 27/100\n",
            "2754/2754 [==============================] - 14s 5ms/step - loss: 0.0541 - accuracy: 0.9971 - val_loss: 0.2775 - val_accuracy: 0.9106\n",
            "Epoch 28/100\n",
            "2754/2754 [==============================] - 16s 6ms/step - loss: 0.0529 - accuracy: 0.9971 - val_loss: 0.2815 - val_accuracy: 0.9089\n",
            "Epoch 29/100\n",
            "2754/2754 [==============================] - 17s 6ms/step - loss: 0.0515 - accuracy: 0.9973 - val_loss: 0.2756 - val_accuracy: 0.9110\n"
          ]
        },
        {
          "data": {
            "image/png": "[encoded data removed]",
            "text/plain": [
              "<Figure size 1200x400 with 2 Axes>"
            ]
          },
          "metadata": {},
          "output_type": "display_data"
        }
      ],
      "source": [
        "train_classifier()"
      ]
    },
    {
      "cell_type": "markdown",
      "metadata": {
        "id": "F9l_KwZsGhD3"
      },
      "source": [
        "**Prediction**"
      ]
    },
    {
      "cell_type": "code",
      "execution_count": 6,
      "metadata": {
        "id": "oDgHHxXAKH94"
      },
      "outputs": [],
      "source": [
        "def load_classifier():\n",
        "  # load the model from disk\n",
        "  model = load_model('best_model.keras')\n",
        "\n",
        "  # load the tokenizer from disk\n",
        "  with open('tokenizer.pickle', 'rb') as handle:\n",
        "      tokenizer = pickle.load(handle)\n",
        "\n",
        "  return model, tokenizer"
      ]
    },
    {
      "cell_type": "code",
      "execution_count": 7,
      "metadata": {
        "id": "sPjznf2QFCY6"
      },
      "outputs": [],
      "source": [
        "def predict(sentence):\n",
        "  model, tokenizer = load_classifier()\n",
        "\n",
        "  # tokenize the sentence\n",
        "  sequence = tokenizer.texts_to_sequences([sentence])\n",
        "\n",
        "  # pad the sequence\n",
        "  data = pad_sequences(sequence, maxlen=max_length)\n",
        "\n",
        "  # use the model to predict the class\n",
        "  prediction = model.predict(data)\n",
        "\n",
        "  return prediction[0][0]"
      ]
    },
    {
      "cell_type": "code",
      "execution_count": 8,
      "metadata": {
        "id": "YiwotwuiGgoQ"
      },
      "outputs": [],
      "source": [
        "# read sentences from the file\n",
        "def read_sentences_from_file(filename):\n",
        "  sentences = []\n",
        "  with open(filename, \"r\") as f:\n",
        "    for line in f:\n",
        "      sentences.append(line.strip())\n",
        "  return sentences\n",
        "\n",
        "def read_answers_from_file(filename):\n",
        "  answers = []\n",
        "  # written as \"True\" or \"False\"\n",
        "  with open(filename, \"r\") as f:\n",
        "    for line in f:\n",
        "      answers.append(line.strip() == \"True\")\n",
        "  return answers"
      ]
    },
    {
      "cell_type": "code",
      "execution_count": 9,
      "metadata": {
        "id": "7kA0yWObOyJn"
      },
      "outputs": [],
      "source": [
        "# predict the sentences\n",
        "def predict_sentences(sentences):\n",
        "  predictions = []\n",
        "  for sentence in sentences:\n",
        "    predictions.append(predict(sentence))\n",
        "\n",
        "  # set target values\n",
        "  target = read_answers_from_file(\"answers.txt\")\n",
        "\n",
        "  correct_count = 0\n",
        "  # print sentence, result value, result(True(Separated) or False(Not Separated)), target (True(Separated) or False(Not Separated)) as formatted\n",
        "  for sentence, prediction, target_value in zip(sentences, predictions, target):\n",
        "    result = prediction >= 0.5  # Adjust this threshold based on your preference\n",
        "    print(f\"Sentence: {sentence}\")\n",
        "    print(f\"Classifier Output: {prediction}\")\n",
        "    print(f\"Result: {result} ({'Separated' if result else 'Not Separated'})\")\n",
        "    print(f\"Target: {target_value} ({'Separated' if target_value else 'Not Separated'})\")\n",
        "    print(\"=\" * 50)\n",
        "\n",
        "    # Check if the prediction is correct\n",
        "    if result == target_value:\n",
        "      correct_count += 1\n",
        "\n",
        "  # Calculate and print correct classification percentage\n",
        "  total_sentences = len(sentences)\n",
        "  correct_percentage = (correct_count / total_sentences) * 100\n",
        "  print(f\"Correct Classification Percentage: {correct_percentage:.2f}%\")\n"
      ]
    },
    {
      "cell_type": "code",
      "execution_count": 10,
      "metadata": {
        "colab": {
          "base_uri": "https://localhost:8080/"
        },
        "id": "rOZDCGu6DBOI",
        "outputId": "71019b2d-84ed-450c-e1db-aacfe4199ae6"
      },
      "outputs": [
        {
          "name": "stdout",
          "output_type": "stream",
          "text": [
            "1/1 [==============================] - 0s 106ms/step\n",
            "1/1 [==============================] - 0s 50ms/step\n",
            "1/1 [==============================] - 0s 48ms/step\n",
            "1/1 [==============================] - 0s 51ms/step\n"
          ]
        },
        {
          "name": "stderr",
          "output_type": "stream",
          "text": [
            "WARNING:tensorflow:5 out of the last 5 calls to <function Model.make_predict_function.<locals>.predict_function at 0x7ae58e5ec1f0> triggered tf.function retracing. Tracing is expensive and the excessive number of tracings could be due to (1) creating @tf.function repeatedly in a loop, (2) passing tensors with different shapes, (3) passing Python objects instead of tensors. For (1), please define your @tf.function outside of the loop. For (2), @tf.function has reduce_retracing=True option that can avoid unnecessary retracing. For (3), please refer to https://www.tensorflow.org/guide/function#controlling_retracing and https://www.tensorflow.org/api_docs/python/tf/function for  more details.\n"
          ]
        },
        {
          "name": "stdout",
          "output_type": "stream",
          "text": [
            "1/1 [==============================] - 0s 63ms/step\n"
          ]
        },
        {
          "name": "stderr",
          "output_type": "stream",
          "text": [
            "WARNING:tensorflow:6 out of the last 6 calls to <function Model.make_predict_function.<locals>.predict_function at 0x7ae58f4a9bd0> triggered tf.function retracing. Tracing is expensive and the excessive number of tracings could be due to (1) creating @tf.function repeatedly in a loop, (2) passing tensors with different shapes, (3) passing Python objects instead of tensors. For (1), please define your @tf.function outside of the loop. For (2), @tf.function has reduce_retracing=True option that can avoid unnecessary retracing. For (3), please refer to https://www.tensorflow.org/guide/function#controlling_retracing and https://www.tensorflow.org/api_docs/python/tf/function for  more details.\n"
          ]
        },
        {
          "name": "stdout",
          "output_type": "stream",
          "text": [
            "1/1 [==============================] - 0s 55ms/step\n",
            "1/1 [==============================] - 0s 50ms/step\n",
            "1/1 [==============================] - 0s 71ms/step\n",
            "1/1 [==============================] - 0s 75ms/step\n",
            "1/1 [==============================] - 0s 51ms/step\n",
            "1/1 [==============================] - 0s 65ms/step\n",
            "1/1 [==============================] - 0s 48ms/step\n",
            "1/1 [==============================] - 0s 51ms/step\n",
            "1/1 [==============================] - 0s 78ms/step\n",
            "1/1 [==============================] - 0s 74ms/step\n",
            "1/1 [==============================] - 0s 51ms/step\n",
            "1/1 [==============================] - 0s 56ms/step\n",
            "1/1 [==============================] - 0s 74ms/step\n",
            "1/1 [==============================] - 0s 65ms/step\n",
            "1/1 [==============================] - 0s 49ms/step\n",
            "Sentence: okulumuzun öğrencilerinde gelişme var.\n",
            "Classifier Output: 0.014484201557934284\n",
            "Result: False (Not Separated)\n",
            "Target: False (Not Separated)\n",
            "==================================================\n",
            "Sentence: toplu yemek etkinliğine öğrencilerde geldi.\n",
            "Classifier Output: 0.9979123473167419\n",
            "Result: True (Separated)\n",
            "Target: True (Separated)\n",
            "==================================================\n",
            "Sentence: oradaki eve ne olduğunu bilmiyorum.\n",
            "Classifier Output: 0.06613121926784515\n",
            "Result: False (Not Separated)\n",
            "Target: False (Not Separated)\n",
            "==================================================\n",
            "Sentence: durumun kendiside farkında değil.\n",
            "Classifier Output: 0.9983834028244019\n",
            "Result: True (Separated)\n",
            "Target: True (Separated)\n",
            "==================================================\n",
            "Sentence: o kadar saat baktık, halbuki hemen çözülebilirmiş.\n",
            "Classifier Output: 0.026547400280833244\n",
            "Result: False (Not Separated)\n",
            "Target: False (Not Separated)\n",
            "==================================================\n",
            "Sentence: nerede kalacağımıza henüz karar vermedik.\n",
            "Classifier Output: 0.20078358054161072\n",
            "Result: False (Not Separated)\n",
            "Target: False (Not Separated)\n",
            "==================================================\n",
            "Sentence: yeterince çabalamadıkki sonuç istediğimiz gibi olsun.\n",
            "Classifier Output: 0.801829993724823\n",
            "Result: True (Separated)\n",
            "Target: True (Separated)\n",
            "==================================================\n",
            "Sentence: uygulama yazılımları ve bilgisayar donanımı arasındaki iletişimi sağlamaktadır.\n",
            "Classifier Output: 0.0013814145931974053\n",
            "Result: False (Not Separated)\n",
            "Target: False (Not Separated)\n",
            "==================================================\n",
            "Sentence: bütün gün seni aradık, neyseki başına bir şey gelmemiş.\n",
            "Classifier Output: 0.9999475479125977\n",
            "Result: True (Separated)\n",
            "Target: True (Separated)\n",
            "==================================================\n",
            "Sentence: bu yemektende yersem, balon gibi şişeceğim.\n",
            "Classifier Output: 0.7355583906173706\n",
            "Result: True (Separated)\n",
            "Target: True (Separated)\n",
            "==================================================\n",
            "Sentence: buraya tekrar yolun düşerse, geldiğinde bizimle iletişime geçmeyi unutma.\n",
            "Classifier Output: 0.1068546250462532\n",
            "Result: False (Not Separated)\n",
            "Target: False (Not Separated)\n",
            "==================================================\n",
            "Sentence: öyle sanıyorumki bu hata asla çözülmeyecek.\n",
            "Classifier Output: 0.9992484450340271\n",
            "Result: True (Separated)\n",
            "Target: True (Separated)\n",
            "==================================================\n",
            "Sentence: o kadar çaba sarfettik, gel görki bir türlü kabul edilebilir bir sonuca varamadık.\n",
            "Classifier Output: 0.9988932013511658\n",
            "Result: True (Separated)\n",
            "Target: True (Separated)\n",
            "==================================================\n",
            "Sentence: sana kesinlikle katılmıyoruz, söylenenleri ne şekilde anladığının bir önemi yok.\n",
            "Classifier Output: 0.07871077954769135\n",
            "Result: False (Not Separated)\n",
            "Target: False (Not Separated)\n",
            "==================================================\n",
            "Sentence: o zamanki elektronik sistemler, sıralı mekanik şalterler ile çalışıyordu.\n",
            "Classifier Output: 0.008191825821995735\n",
            "Result: False (Not Separated)\n",
            "Target: False (Not Separated)\n",
            "==================================================\n",
            "Sentence: böylece, doğanın determinist davranışı elde edilebilmektedir.\n",
            "Classifier Output: 0.24180148541927338\n",
            "Result: False (Not Separated)\n",
            "Target: False (Not Separated)\n",
            "==================================================\n",
            "Sentence: tanıyı koymakta hem daha hızlı hemde daha başarılı oluyor.\n",
            "Classifier Output: 0.9999581575393677\n",
            "Result: True (Separated)\n",
            "Target: True (Separated)\n",
            "==================================================\n",
            "Sentence: türk dili, dillerin en zenginlerindendir; yeterki bu dil, şuurla işlensin.\n",
            "Classifier Output: 0.9998034834861755\n",
            "Result: True (Separated)\n",
            "Target: True (Separated)\n",
            "==================================================\n",
            "Sentence: dünyanın herhangi bir yerindeki bir programcı hemen bu sorunu çözebilmektedir.\n",
            "Classifier Output: 0.021262479946017265\n",
            "Result: False (Not Separated)\n",
            "Target: False (Not Separated)\n",
            "==================================================\n",
            "Sentence: ben çok yoruldum, sizde durumlar iyidir umarım.\n",
            "Classifier Output: 0.3333398401737213\n",
            "Result: False (Not Separated)\n",
            "Target: False (Not Separated)\n",
            "==================================================\n",
            "Correct Classification Percentage: 100.00%\n"
          ]
        }
      ],
      "source": [
        "predict_filename = \"test_sentences.txt\"\n",
        "predict_sentences(read_sentences_from_file(predict_filename))"
      ]
    },
    {
      "cell_type": "code",
      "execution_count": null,
      "metadata": {
        "id": "ggow2BRPMBdN"
      },
      "outputs": [],
      "source": []
    }
  ],
  "metadata": {
    "accelerator": "GPU",
    "colab": {
      "gpuType": "T4",
      "provenance": []
    },
    "kernelspec": {
      "display_name": "Python 3",
      "name": "python3"
    },
    "language_info": {
      "name": "python",
      "version": "3.11.7"
    }
  },
  "nbformat": 4,
  "nbformat_minor": 0
}
